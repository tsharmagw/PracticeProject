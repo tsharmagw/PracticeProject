{
 "cells": [
  {
   "cell_type": "code",
   "execution_count": 4,
   "metadata": {},
   "outputs": [],
   "source": [
    "#@author-Tejasvi Sharma\n",
    "#code to implement linear regression with simple regression and using regularization\n",
    "#importing required packages\n",
    "from sklearn.linear_model import LinearRegression\n",
    "from sklearn.linear_model import Lasso\n",
    "from sklearn.linear_model import Ridge\n",
    "from sklearn.metrics import mean_squared_error\n",
    "\n",
    "def linearRegression(X, y, test_size = 0.3, random_state = 0,max_iteration=10):\n",
    "    X_train, X_test, y_train, y_test = train_test_split(X1, y_std, test_size = 0.3, random_state = 0)\n",
    "    #Creating objects\n",
    "    slr = LinearRegression(max_iter=max_iteration)\n",
    "    ls=Lasso(max_iter=max_iteration)\n",
    "    rd=Ridge(max_iter=max_iteration)\n",
    "    #training the three models\n",
    "    slr.fit(X_train, y_train)\n",
    "    ls.fir(X_train,y_train)\n",
    "    rd.fit(X_train,y_train)\n",
    "\n",
    "    # Test the model on the testing set\n",
    "    y_test_pred_slr = slr.predict(X_test)\n",
    "    y_test_pred_ls = ls.predict(X_test)\n",
    "    y_test_pred_rd = rd.predict(X_test)\n",
    "    # Get the mean squared error\n",
    "    mean_squared_error_val_slr = mean_squared_error(y_test, y_test_pred_slr)\n",
    "    mean_squared_error_val_ls = mean_squared_error(y_test, y_test_pred_ls)\n",
    "    mean_squared_error_val_rd = mean_squared_error(y_test, y_test_pred_rd)\n",
    "    \n",
    "    if( mean_squared_error_val_slr < mean_squared_error_val_ls and mean_squared_error_val_slr < mean_squared_error_val_rd):\n",
    "        return([mean_squared_error_val_slr,slr])\n",
    "    elif( mean_squared_error_val_ls < mean_squared_error_val_slr and mean_squared_error_val_ls < mean_squared_error_val_rd):\n",
    "        return([mean_squared_error_ls,ls])\n",
    "    else:\n",
    "        return([mean_squared_error_rd,rd])\n",
    "    \n"
   ]
  },
  {
   "cell_type": "code",
   "execution_count": null,
   "metadata": {},
   "outputs": [],
   "source": []
  }
 ],
 "metadata": {
  "kernelspec": {
   "display_name": "Python 3",
   "language": "python",
   "name": "python3"
  },
  "language_info": {
   "codemirror_mode": {
    "name": "ipython",
    "version": 3
   },
   "file_extension": ".py",
   "mimetype": "text/x-python",
   "name": "python",
   "nbconvert_exporter": "python",
   "pygments_lexer": "ipython3",
   "version": "3.5.2"
  }
 },
 "nbformat": 4,
 "nbformat_minor": 2
}
