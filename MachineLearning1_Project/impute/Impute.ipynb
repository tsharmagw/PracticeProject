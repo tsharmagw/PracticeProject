{
 "cells": [
  {
   "cell_type": "code",
   "execution_count": 103,
   "metadata": {},
   "outputs": [],
   "source": [
    "#@author Tejasvi Sharma\n",
    "#code to impute values from\n",
    "#importing packages\n",
    "import numpy as np\n",
    "import pandas as pd"
   ]
  },
  {
   "cell_type": "code",
   "execution_count": 104,
   "metadata": {},
   "outputs": [],
   "source": [
    "#@function purpose -> to create imputer objects for columns with missing data values and return those objects, Only for cat columns\n",
    "# @param train_data, data on which the imputer will learn\n",
    "# @param col_list, columns with missing data\n",
    "# @param col_list_dict, dict which has the type for every column\n",
    "# @param missing_values_list, has the list of data which might be in place of missing data, we will impute these values\n",
    "missing_values_list=[\"NA\",\"N.A\",\"#NA\",\" \",\"\",\" ?\",\"na\",\"NULL\",\"null\",\"_\"]\n",
    "def Impute_train_cat(train_data,col_list,col_list_dict):\n",
    "    impute_dict={}\n",
    "    for col in col_list:\n",
    "        if(str.lower(col_list_dict[col]) == 'cat'):\n",
    "            most_frequent=df[col].value_counts().idxmax()\n",
    "        impute_dict[col]=most_frequent\n",
    "    \n",
    "    return(impute_dict)\n",
    "              \n",
    "    \n",
    "def Impute_transform_cat(test_data,col_list,col_list_dict,impute_dict):\n",
    "    imp_object_list=[]\n",
    "    for col in col_list:\n",
    "        if(str.lower(col_list_dict[col]) == 'cat'):\n",
    "            most_common=impute_dict[col]\n",
    "            print(most_common)\n",
    "            def replace_most_common(x):\n",
    "                if x in missing_values_list:\n",
    "                    return most_common\n",
    "                else:\n",
    "                    return x\n",
    "            test_data[col]= test_data[col].map(replace_most_common)\n",
    "   \n",
    "            \n",
    "    return(test_data)\n",
    "            \n",
    "#tested working, imputing data values      \n",
    "    \n",
    "\n",
    "\n",
    "\n",
    "    \n",
    "    "
   ]
  },
  {
   "cell_type": "code",
   "execution_count": 108,
   "metadata": {},
   "outputs": [],
   "source": [
    "#code used to test the module \n",
    "# df=pd.read_csv(\"../train_data.csv\")\n",
    "# dict1=Impute_train_cat(df,['workclass'],{'workclass':'cat'})\n",
    "# #Impute_transform_cat(df,['workclass'],{'workclass':'cat'},)\n",
    "# print(dict1)\n",
    "# df1=Impute_transform_cat(df,['workclass'],{'workclass':'cat'},dict1)\\"
   ]
  },
  {
   "cell_type": "code",
   "execution_count": null,
   "metadata": {},
   "outputs": [],
   "source": []
  }
 ],
 "metadata": {
  "kernelspec": {
   "display_name": "Python 3",
   "language": "python",
   "name": "python3"
  },
  "language_info": {
   "codemirror_mode": {
    "name": "ipython",
    "version": 3
   },
   "file_extension": ".py",
   "mimetype": "text/x-python",
   "name": "python",
   "nbconvert_exporter": "python",
   "pygments_lexer": "ipython3",
   "version": "3.5.2"
  }
 },
 "nbformat": 4,
 "nbformat_minor": 2
}
