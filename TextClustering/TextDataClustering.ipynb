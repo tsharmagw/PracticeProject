{
 "cells": [
  {
   "cell_type": "code",
   "execution_count": 1,
   "metadata": {},
   "outputs": [],
   "source": [
    "#Objective- To cluster documents on the basis of keywords in those documents.\n",
    "#@author- Tejasvi Sharma"
   ]
  },
  {
   "cell_type": "code",
   "execution_count": 11,
   "metadata": {},
   "outputs": [
    {
     "name": "stdout",
     "output_type": "stream",
     "text": [
      "   YearPubmed                                       AbstractText  ID\n",
      "0        2016  INTRODUCTION: Type 1 Diabetes Mellitus (T1DM) ...   1\n",
      "1        2016  The study was aimed at finding the effect of g...   2\n",
      "2        2016  OBJECTIVE: To explore the relationships of the...   3\n",
      "3        2016  BACKGROUND: Preterm birth is the major cause o...   4\n",
      "4        2016  BACKGROUND: This study was designed to determi...   5\n"
     ]
    }
   ],
   "source": [
    "#imports\n",
    "import numpy as np\n",
    "import matplotlib.pyplot as plt\n",
    "import pandas as pd\n",
    "import nltk\n",
    "import re\n",
    "import os\n",
    "import codecs\n",
    "from sklearn import feature_extraction\n",
    "import mpld3\n",
    "\n",
    "#load Data\n",
    "df=pd.read_csv(\"Diabetes Journal Abstracts.csv\")\n",
    "df['ID'] = df.index + 1\n",
    "print(df.head())\n"
   ]
  },
  {
   "cell_type": "code",
   "execution_count": null,
   "metadata": {},
   "outputs": [],
   "source": []
  },
  {
   "cell_type": "code",
   "execution_count": null,
   "metadata": {},
   "outputs": [],
   "source": []
  }
 ],
 "metadata": {
  "kernelspec": {
   "display_name": "Python 3",
   "language": "python",
   "name": "python3"
  },
  "language_info": {
   "codemirror_mode": {
    "name": "ipython",
    "version": 3
   },
   "file_extension": ".py",
   "mimetype": "text/x-python",
   "name": "python",
   "nbconvert_exporter": "python",
   "pygments_lexer": "ipython3",
   "version": "3.5.2"
  }
 },
 "nbformat": 4,
 "nbformat_minor": 2
}
