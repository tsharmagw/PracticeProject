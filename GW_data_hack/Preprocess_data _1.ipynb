{
 "cells": [
  {
   "cell_type": "code",
   "execution_count": 1,
   "metadata": {},
   "outputs": [],
   "source": [
    "#packages required\n",
    "#@author- Tejasvi Sharma\n",
    "#this for comapring between yes and no to readmitted\n",
    "from log import Logger\n",
    "import pandas as pd\n",
    "import sys\n",
    "import matplotlib.pyplot as plt\n",
    "import seaborn as sns\n",
    "from IPython import display\n",
    "import numpy as np\n",
    "from sklearn.pipeline import Pipeline\n",
    "from sklearn.preprocessing import Imputer\n",
    "from sklearn.model_selection import cross_val_score\n",
    "from sklearn.preprocessing import LabelEncoder\n",
    "from sklearn.preprocessing import StandardScaler\n",
    "from sklearn.model_selection import train_test_split\n",
    "sns.set()\n"
   ]
  },
  {
   "cell_type": "code",
   "execution_count": 2,
   "metadata": {},
   "outputs": [],
   "source": [
    "#read csv file with header\n",
    "df=pd.read_csv(\"diabetic_data.csv\")"
   ]
  },
  {
   "cell_type": "code",
   "execution_count": 3,
   "metadata": {},
   "outputs": [],
   "source": [
    "#changing numeric admission_type_id to actual value\n",
    "admission_map={1:\"Emergency\",2:\"Urgent\",3:\"Elective\",4:\"Newborn\",5:\"Not Available\",6:\"NULL\",7:\"Trauma Center\",8:\"Not Mapped\"}\n",
    "df['admission_type_id']=df['admission_type_id'].map(admission_map)"
   ]
  },
  {
   "cell_type": "code",
   "execution_count": 4,
   "metadata": {},
   "outputs": [],
   "source": [
    "#changing numeric discharge_disposition_id to actual value\n",
    "discharge_disposition_map={1:\"Discharged to home\",2:\"Discharged/transferred to another short term hospital\",3:\"Discharged/transferred to SNF\",4:\"Discharged/transferred to ICF\",5:\"Discharged/transferred to another type of inpatient care institution\",6:\"Discharged/transferred to home with home health service\",7:\"Left AMA\",8:\"Discharged/transferred to home under care of Home IV provider\",9:\"Admitted as an inpatient to this hospital\",10:\"Neonate discharged to another hospital for neonatal aftercare\",11:\"Expired\",12:\"Still patient or expected to return for outpatient services\",13:\"Hospice / home\",14:\"Hospice / medical facility\",15:\"Discharged/transferred within this institution to Medicare approved swing bed\",16:\"Discharged/transferred/referred another institution for outpatient services\",17:\"Discharged/transferred/referred to this institution for outpatient services\",18:\"NULL\",19:\"Expired at home. Medicaid only\",20:\"Expired in a medical facility. Medicaid only\",21:\"Expired\",22:\"Discharged/transferred to another rehab fac including rehab units of a hospital .\",23:\"Discharged/transferred to a long term care hospital.\",24:\"Discharged/transferred to a nursing facility certified under Medicaid but not certified under Medicare.\",25:\"Not Mapped\",26:\"Unknown/Invalid\",30:\"Discharged/transferred to another Type of Health Care Institution not Defined Elsewhere\",27:\"Discharged/transferred to a federal health care facility.\",28:\"Discharged/transferred/referred to a psychiatric hospital of psychiatric distinct part unit of a hospital\",29:\"Discharged/transferred to a Critical Access Hospital (CAH).\"}\n",
    "df['discharge_disposition_id']=df['discharge_disposition_id'].map(discharge_disposition_map)"
   ]
  },
  {
   "cell_type": "code",
   "execution_count": 5,
   "metadata": {},
   "outputs": [],
   "source": [
    "#changing admission_source to actuaql value\n",
    "admission_source_map={1:\" Physician Referral\",2:\"Clinic Referral\",3:\"HMO Referral\",4:\"Transfer from a hospital\",5:\" Transfer from a Skilled Nursing Facility (SNF)\",6:\" Transfer from another health care facility\",7:\" Emergency Room\",8:\" Court/Law Enforcement\",9:\" Not Available\",10:\" Transfer from critial access hospital\",11:\"Normal Delivery\",12:\" Premature Delivery\",13:\" Sick Baby\",14:\" Extramural Birth\",15:\"Not Available\",17:\"NULL\",18:\" Transfer From Another Home Health Agency\",19:\"Readmission to Same Home Health Agency\",20:\" Not Mapped\",21:\"Unknown/Invalid\",22:\" Transfer from hospital inpt/same fac reslt in a sep claim\",23:\" Born inside this hospital\",24:\" Born outside this hospital\",25:\" Transfer from Ambulatory Surgery Center\",26:\"Transfer from Hospice\"}\n",
    "df['admission_source_id']=df['admission_source_id'].map(admission_source_map)"
   ]
  },
  {
   "cell_type": "code",
   "execution_count": 6,
   "metadata": {},
   "outputs": [],
   "source": [
    "df=df[df[\"readmitted\"] !=\"NO\"]"
   ]
  },
  {
   "cell_type": "code",
   "execution_count": 7,
   "metadata": {},
   "outputs": [],
   "source": [
    "train, test = train_test_split(df, test_size=0.3,stratify=df.readmitted)"
   ]
  },
  {
   "cell_type": "code",
   "execution_count": 8,
   "metadata": {},
   "outputs": [],
   "source": [
    "train.to_csv(\"train_data_1.csv\",index=False)\n",
    "test.to_csv(\"test_data_1.csv\",index=False)"
   ]
  },
  {
   "cell_type": "code",
   "execution_count": 9,
   "metadata": {
    "scrolled": false
   },
   "outputs": [
    {
     "data": {
      "text/plain": [
       "array(['>30', '<30'], dtype=object)"
      ]
     },
     "execution_count": 9,
     "metadata": {},
     "output_type": "execute_result"
    }
   ],
   "source": [
    "train.readmitted.unique()\n"
   ]
  },
  {
   "cell_type": "code",
   "execution_count": null,
   "metadata": {},
   "outputs": [],
   "source": []
  }
 ],
 "metadata": {
  "kernelspec": {
   "display_name": "Python 3",
   "language": "python",
   "name": "python3"
  },
  "language_info": {
   "codemirror_mode": {
    "name": "ipython",
    "version": 3
   },
   "file_extension": ".py",
   "mimetype": "text/x-python",
   "name": "python",
   "nbconvert_exporter": "python",
   "pygments_lexer": "ipython3",
   "version": "3.5.2"
  }
 },
 "nbformat": 4,
 "nbformat_minor": 2
}
